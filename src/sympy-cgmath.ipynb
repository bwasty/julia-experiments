{
 "cells": [
  {
   "cell_type": "code",
   "execution_count": 1,
   "metadata": {},
   "outputs": [],
   "source": [
    "using SymPy"
   ]
  },
  {
   "cell_type": "code",
   "execution_count": 2,
   "metadata": {},
   "outputs": [
    {
     "data": {
      "text/plain": [
       "(a, y, f, n)"
      ]
     },
     "execution_count": 2,
     "metadata": {},
     "output_type": "execute_result"
    }
   ],
   "source": [
    "@syms a y f n # aspect ratio, yfov, zfar, znear"
   ]
  },
  {
   "cell_type": "code",
   "execution_count": 3,
   "metadata": {},
   "outputs": [
    {
     "data": {
      "text/latex": [
       "\\[\\left[ \\begin{array}{rrrr}\\frac{1}{a \\tan{\\left(0.5 y \\right)}}&0&0&0\\\\0&\\frac{1}{\\tan{\\left(0.5 y \\right)}}&0&0\\\\0&0&\\frac{f + n}{- f + n}&0\\\\0&0&-1&\\frac{2 f n}{- f + n}\\end{array}\\right]\\]"
      ],
      "text/plain": [
       "4×4 Array{Sym,2}:\n",
       " 1/(a*tan(0.5*y))             0                 0               0\n",
       "                0  1/tan(0.5*y)                 0               0\n",
       "                0             0  (f + n)/(-f + n)               0\n",
       "                0             0                -1  2*f*n/(-f + n)"
      ]
     },
     "execution_count": 3,
     "metadata": {},
     "output_type": "execute_result"
    }
   ],
   "source": [
    "# Finite perspective projection\n",
    "P = [1/(a*tan(0.5y)) 0 0 0;\n",
    "     0 1/tan(0.5y) 0 0;\n",
    "     0 0 (f+n)//(n-f) 0;\n",
    "     0 0 -1 (2f*n)//(n-f)]"
   ]
  },
  {
   "cell_type": "code",
   "execution_count": 4,
   "metadata": {},
   "outputs": [
    {
     "ename": "MethodError",
     "evalue": "MethodError: no method matching subs(::Array{Sym,2}, ::Pair{Sym,Float64}, ::Pair{Sym,Int64}, ::Pair{Sym,Int64}, ::Pair{Sym,Float64})\nClosest candidates are:\n  subs(!Matched::T<:SymPy.SymbolicObject, ::Pair...; kwargs...) where T<:SymPy.SymbolicObject at /root/.julia/packages/SymPy/1Cwgd/src/utils.jl:104\n  subs(!Matched::Tuple{T<:SymPy.SymbolicObject,N}, ::Any...; kwargs...) where {T<:SymPy.SymbolicObject, N} at /root/.julia/packages/SymPy/1Cwgd/src/utils.jl:105\n  subs(!Matched::Number, ::Any...; kwargs...) at /root/.julia/packages/SymPy/1Cwgd/src/utils.jl:106\n  ...",
     "output_type": "error",
     "traceback": [
      "MethodError: no method matching subs(::Array{Sym,2}, ::Pair{Sym,Float64}, ::Pair{Sym,Int64}, ::Pair{Sym,Int64}, ::Pair{Sym,Float64})\nClosest candidates are:\n  subs(!Matched::T<:SymPy.SymbolicObject, ::Pair...; kwargs...) where T<:SymPy.SymbolicObject at /root/.julia/packages/SymPy/1Cwgd/src/utils.jl:104\n  subs(!Matched::Tuple{T<:SymPy.SymbolicObject,N}, ::Any...; kwargs...) where {T<:SymPy.SymbolicObject, N} at /root/.julia/packages/SymPy/1Cwgd/src/utils.jl:105\n  subs(!Matched::Number, ::Any...; kwargs...) at /root/.julia/packages/SymPy/1Cwgd/src/utils.jl:106\n  ...",
      "",
      "Stacktrace:",
      " [1] top-level scope at In[4]:1"
     ]
    }
   ],
   "source": [
    "subs(P, a=>1.5, y=>45, f=>100, n=>0.1)"
   ]
  },
  {
   "cell_type": "code",
   "execution_count": 5,
   "metadata": {},
   "outputs": [
    {
     "data": {
      "text/plain": [
       "Array{Sym,2}"
      ]
     },
     "execution_count": 5,
     "metadata": {},
     "output_type": "execute_result"
    }
   ],
   "source": [
    "typeof(ans)"
   ]
  },
  {
   "cell_type": "code",
   "execution_count": null,
   "metadata": {
    "collapsed": true,
    "jupyter": {
     "outputs_hidden": true
    }
   },
   "outputs": [],
   "source": []
  }
 ],
 "metadata": {
  "kernelspec": {
   "display_name": "Julia 1.2.0",
   "language": "julia",
   "name": "julia-1.2"
  },
  "language_info": {
   "file_extension": ".jl",
   "mimetype": "application/julia",
   "name": "julia",
   "version": "1.2.0"
  }
 },
 "nbformat": 4,
 "nbformat_minor": 4
}
