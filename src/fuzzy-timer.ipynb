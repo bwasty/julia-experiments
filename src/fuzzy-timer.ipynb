{
 "cells": [
  {
   "cell_type": "code",
   "execution_count": 171,
   "metadata": {},
   "outputs": [
    {
     "data": {
      "text/plain": [
       "Main.M.FuzzyTimer(\"Timer\", nothing, 20 minutes, 40 minutes, 60 minutes, 80 minutes, 100 minutes, 120 minutes, 140 minutes, false)"
      ]
     },
     "metadata": {},
     "output_type": "display_data"
    },
    {
     "data": {
      "text/plain": [
       "TooEarly::State = 0"
      ]
     },
     "metadata": {},
     "output_type": "display_data"
    },
    {
     "data": {
      "text/plain": [
       "Early::State = 1"
      ]
     },
     "metadata": {},
     "output_type": "display_data"
    },
    {
     "data": {
      "text/plain": [
       "Good::State = 2"
      ]
     },
     "metadata": {},
     "output_type": "display_data"
    },
    {
     "data": {
      "text/plain": [
       "Late::State = 4"
      ]
     },
     "metadata": {},
     "output_type": "display_data"
    },
    {
     "name": "stderr",
     "output_type": "stream",
     "text": [
      "WARNING: replacing module M.\n"
     ]
    },
    {
     "data": {
      "text/plain": [
       "19 minutes"
      ]
     },
     "execution_count": 171,
     "metadata": {},
     "output_type": "execute_result"
    }
   ],
   "source": [
    "using Dates\n",
    "\n",
    "module M\n",
    "using Dates\n",
    "\n",
    "@enum State begin\n",
    "    TooEarly #white\n",
    "    Early #blue\n",
    "    Good #green\n",
    "    Okay #yellow\n",
    "    Late #orange\n",
    "    Latest #red\n",
    "    TooLate #black\n",
    "end\n",
    "\n",
    "emojis = [\n",
    "    ['⚪', '💜', '🥚'], \n",
    "    ['🔵', '💙', '📘'], \n",
    "    ['🟢', '💚', '📗'], \n",
    "    ['🟡', '💛', '🌕', '📔', '📒'], \n",
    "    ['🟠', '🧡', '📙'], \n",
    "    ['🔴','❤', '♥', '🛑', '📕'], \n",
    "    ['⚫', '🖤'],\n",
    "]\n",
    "\n",
    "BasePeriod = Minute\n",
    "#BasePeriod = Second # for testing\n",
    "\n",
    "mutable struct FuzzyTimer\n",
    "    name::String\n",
    "    start::Union{DateTime, Nothing}\n",
    "    \n",
    "    too_early::BasePeriod\n",
    "    early::BasePeriod\n",
    "    good::BasePeriod\n",
    "    okay::BasePeriod\n",
    "    late::BasePeriod\n",
    "    latest::BasePeriod\n",
    "    too_late::BasePeriod\n",
    "    \n",
    "    inverted::Bool\n",
    "    \n",
    "    FuzzyTimer(good::Period, latest::Period; name=\"Timer\") = begin\n",
    "        good = BasePeriod(good)\n",
    "        latest = BasePeriod(latest)\n",
    "        interval = (latest - good) / 3 # 3 steps between: Good, Okay, Late\n",
    "        \n",
    "        too_early = good - 2interval\n",
    "        early     = good - 1interval\n",
    "        \n",
    "        okay      = good + 1interval\n",
    "        late      = latest - 1interval\n",
    "        \n",
    "        too_late  = latest + 1interval\n",
    "        \n",
    "        new(name, nothing, too_early, early, good, okay, late, latest, too_late)\n",
    "    end  \n",
    "    \n",
    "    FuzzyTimer(good::Time, latest::Time; name=\"Timer\") = begin\n",
    "        interval = BasePeriod(latest - good) / 3 # 3 steps between: Good, Okay, Late\n",
    "        start = DateTime(today(), good - 3interval)\n",
    "        \n",
    "        too_early = 1interval\n",
    "        early     = 2interval\n",
    "        good      = 3interval\n",
    "        okay      = 4interval\n",
    "        late      = 5interval\n",
    "        latest    = 6interval\n",
    "        too_late  = 7interval\n",
    "        \n",
    "        new(name, start, too_early, early, good, okay, late, latest, too_late)\n",
    "    end\n",
    "end\n",
    "\n",
    "function start(timer::FuzzyTimer)\n",
    "    timer.start = now()\n",
    "end\n",
    "\n",
    "function state(timer::FuzzyTimer, now=now())::State\n",
    "    @assert timer.start !== nothing\n",
    "    elapsed = now - timer.start\n",
    "    if elapsed < timer.early\n",
    "        TooEarly\n",
    "    elseif elapsed < timer.good\n",
    "        Early\n",
    "    elseif elapsed < timer.okay\n",
    "        Good\n",
    "    elseif elapsed < timer.late\n",
    "        Okay\n",
    "    elseif elapsed < timer.latest\n",
    "        Late\n",
    "    elseif elapsed < timer.too_late\n",
    "        Latest\n",
    "    else\n",
    "        TooLate\n",
    "    end\n",
    "end\n",
    "\n",
    "function remaining_in_state(timer::FuzzyTimer, now=now())::BasePeriod\n",
    "    @assert timer.start !== nothing\n",
    "    elapsed = round(now - timer.start, BasePeriod)\n",
    "    if elapsed < timer.early\n",
    "        timer.early - elapsed\n",
    "    elseif elapsed < timer.good\n",
    "        timer.good - elapsed\n",
    "    elseif elapsed < timer.okay\n",
    "        timer.okay - elapsed\n",
    "    elseif elapsed < timer.late\n",
    "        timer.late - elapsed\n",
    "    elseif elapsed < timer.latest\n",
    "        timer.latest - elapsed\n",
    "    elseif elapsed < timer.too_late\n",
    "        timer.too_late - elapsed\n",
    "    else\n",
    "        BasePeriod(0)\n",
    "    end\n",
    "end\n",
    "\n",
    "end\n",
    "\n",
    "t = M.FuzzyTimer(Minute(60), Hour(2))\n",
    "display(t)\n",
    "t2 = M.FuzzyTimer(Time(11), Time(12))\n",
    "#t, t2\n",
    "M.start(t)\n",
    "M.state(t) |> display\n",
    "M.state(t, now() + Minute(50)) |> display\n",
    "M.state(t, now() + Minute(60)) |> display\n",
    "M.state(t, now() + Minute(100)) |> display\n",
    "\n",
    "M.remaining_in_state(t, now() + Minute(61))"
   ]
  },
  {
   "cell_type": "code",
   "execution_count": 133,
   "metadata": {},
   "outputs": [
    {
     "data": {
      "text/plain": [
       "2019-11-10T17:33:37.614"
      ]
     },
     "execution_count": 133,
     "metadata": {},
     "output_type": "execute_result"
    }
   ],
   "source": [
    "M.start(t)"
   ]
  },
  {
   "cell_type": "code",
   "execution_count": 134,
   "metadata": {},
   "outputs": [
    {
     "ename": "UndefVarError",
     "evalue": "UndefVarError: State not defined",
     "output_type": "error",
     "traceback": [
      "UndefVarError: State not defined",
      "",
      "Stacktrace:",
      " [1] state(::Main.M.FuzzyTimer) at ./In[132]:63",
      " [2] top-level scope at In[134]:1"
     ]
    }
   ],
   "source": [
    "M.state(t)"
   ]
  },
  {
   "cell_type": "code",
   "execution_count": 111,
   "metadata": {},
   "outputs": [
    {
     "data": {
      "text/html": [
       "1 method for generic function <b>Type</b>:<ul><li> FuzzyTimer() in Main at In[2]:2</li> </ul>"
      ],
      "text/plain": [
       "# 1 method for generic function \"(::Type)\":\n",
       "[1] FuzzyTimer() in Main at In[2]:2"
      ]
     },
     "execution_count": 111,
     "metadata": {},
     "output_type": "execute_result"
    }
   ],
   "source": [
    "methods(FuzzyTimer)"
   ]
  },
  {
   "cell_type": "code",
   "execution_count": 135,
   "metadata": {},
   "outputs": [
    {
     "data": {
      "text/plain": [
       "TooEarly::State = 0"
      ]
     },
     "execution_count": 135,
     "metadata": {},
     "output_type": "execute_result"
    }
   ],
   "source": [
    "TooEarly"
   ]
  },
  {
   "cell_type": "code",
   "execution_count": null,
   "metadata": {},
   "outputs": [],
   "source": []
  }
 ],
 "metadata": {
  "jupytext": {
   "formats": "ipynb,jl:light"
  },
  "kernelspec": {
   "display_name": "Julia 1.2.0",
   "language": "julia",
   "name": "julia-1.2"
  },
  "language_info": {
   "file_extension": ".jl",
   "mimetype": "application/julia",
   "name": "julia",
   "version": "1.2.0"
  }
 },
 "nbformat": 4,
 "nbformat_minor": 4
}
