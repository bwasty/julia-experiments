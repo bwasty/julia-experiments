{
 "cells": [
  {
   "cell_type": "code",
   "execution_count": 1,
   "metadata": {},
   "outputs": [],
   "source": [
    "# using Plots\n",
    "# plotlyjs()"
   ]
  },
  {
   "cell_type": "code",
   "execution_count": 4,
   "metadata": {},
   "outputs": [],
   "source": [
    "using PlotlyJS"
   ]
  },
  {
   "cell_type": "code",
   "execution_count": 5,
   "metadata": {},
   "outputs": [
    {
     "data": {
      "text/plain": [
       "trisurf (generic function with 1 method)"
      ]
     },
     "execution_count": 5,
     "metadata": {},
     "output_type": "execute_result"
    }
   ],
   "source": [
    "function trisurf()\n",
    "    facecolor = repeat([\n",
    "        \"rgb(50, 200, 200)\",\n",
    "        \"rgb(100, 200, 255)\",\n",
    "        \"rgb(150, 200, 115)\",\n",
    "        \"rgb(200, 200, 50)\",\n",
    "        \"rgb(230, 200, 10)\",\n",
    "        \"rgb(255, 140, 0)\"\n",
    "    ], inner=[2])\n",
    "\n",
    "    t = mesh3d(\n",
    "        x=[0, 0, 1, 1, 0, 0, 1, 1],\n",
    "        y=[0, 1, 1, 0, 0, 1, 1, 0],\n",
    "        z=[0, 0, 0, 0, 1, 1, 1, 1],\n",
    "        i=[7, 0, 0, 0, 4, 4, 2, 6, 4, 0, 3, 7],\n",
    "        j=[3, 4, 1, 2, 5, 6, 5, 5, 0, 1, 2, 2],\n",
    "        k=[0, 7, 2, 3, 6, 7, 1, 2, 5, 5, 7, 6],\n",
    "        facecolor=facecolor)\n",
    "\n",
    "    plot(t)\n",
    "end"
   ]
  },
  {
   "cell_type": "code",
   "execution_count": 6,
   "metadata": {},
   "outputs": [
    {
     "data": {
      "application/vnd.plotly.v1+json": {
       "data": [
        {
         "facecolor": [
          "rgb(50, 200, 200)",
          "rgb(50, 200, 200)",
          "rgb(100, 200, 255)",
          "rgb(100, 200, 255)",
          "rgb(150, 200, 115)",
          "rgb(150, 200, 115)",
          "rgb(200, 200, 50)",
          "rgb(200, 200, 50)",
          "rgb(230, 200, 10)",
          "rgb(230, 200, 10)",
          "rgb(255, 140, 0)",
          "rgb(255, 140, 0)"
         ],
         "i": [
          7,
          0,
          0,
          0,
          4,
          4,
          2,
          6,
          4,
          0,
          3,
          7
         ],
         "j": [
          3,
          4,
          1,
          2,
          5,
          6,
          5,
          5,
          0,
          1,
          2,
          2
         ],
         "k": [
          0,
          7,
          2,
          3,
          6,
          7,
          1,
          2,
          5,
          5,
          7,
          6
         ],
         "type": "mesh3d",
         "x": [
          0,
          0,
          1,
          1,
          0,
          0,
          1,
          1
         ],
         "y": [
          0,
          1,
          1,
          0,
          0,
          1,
          1,
          0
         ],
         "z": [
          0,
          0,
          0,
          0,
          1,
          1,
          1,
          1
         ]
        }
       ],
       "layout": {
        "autosize": true,
        "margin": {
         "b": 50,
         "l": 50,
         "r": 50,
         "t": 60
        },
        "scene": {
         "aspectmode": "auto",
         "aspectratio": {
          "x": 1,
          "y": 1,
          "z": 1
         },
         "camera": {
          "center": {
           "x": 0,
           "y": 0,
           "z": 0
          },
          "eye": {
           "x": 1.319176029786098,
           "y": 1.2463972347895433,
           "z": 1.1805797455262261
          },
          "projection": {
           "type": "perspective"
          },
          "up": {
           "x": 0,
           "y": 0,
           "z": 1
          }
         }
        }
       }
      },
      "application/vnd.webio.node+json": {
       "children": [
        {
         "children": [],
         "instanceArgs": {
          "namespace": "html",
          "tag": "div"
         },
         "nodeType": "DOM",
         "props": {
          "id": "plot-cd0b8671-2600-492c-8084-77c9ebb5dc54"
         },
         "type": "node"
        }
       ],
       "instanceArgs": {
        "handlers": {
         "__get_gd_contents": [
          "(function (prop){prop==\"data\" ? (WebIO.setval({\"name\":\"__gd_contents\",\"scope\":\"13798871198089401510\",\"id\":\"ob_16\",\"type\":\"observable\"},this.plotElem.data)) : undefined; return prop==\"layout\" ? (WebIO.setval({\"name\":\"__gd_contents\",\"scope\":\"13798871198089401510\",\"id\":\"ob_16\",\"type\":\"observable\"},this.plotElem.layout)) : undefined})"
         ],
         "_commands": [
          "(function (args){var fn=args.shift(); var elem=this.plotElem; var Plotly=this.Plotly; args.unshift(elem); return Plotly[fn].apply(this,args)})"
         ],
         "_downloadImage": [
          "(function (options){return this.Plotly.downloadImage(this.plotElem,options)})"
         ],
         "_toImage": [
          "(function (options){return this.Plotly.toImage(this.plotElem,options).then((function (data){return WebIO.setval({\"name\":\"image\",\"scope\":\"13798871198089401510\",\"id\":\"ob_15\",\"type\":\"observable\"},data)}))})"
         ]
        },
        "id": "13798871198089401510",
        "imports": {
         "data": [
          {
           "name": "Plotly",
           "type": "js",
           "url": "/assetserver/b4459bca59fdd2ca845c4e29ef139273d6cbb549-plotly-latest.min.js"
          },
          {
           "name": null,
           "type": "js",
           "url": "/assetserver/96f803c1f18e79dded91f53d1e6b29efa74f2fb6-plotly_webio.bundle.js"
          }
         ],
         "type": "async_block"
        },
        "mount_callbacks": [
         "function () {\n    var handler = ((function (Plotly,PlotlyWebIO){PlotlyWebIO.init(WebIO); var gd=this.dom.querySelector(\"#plot-cd0b8671-2600-492c-8084-77c9ebb5dc54\"); this.plotElem=gd; this.Plotly=Plotly; (window.Blink!==undefined) ? (gd.style.width=\"100%\", gd.style.height=\"100vh\", gd.style.marginLeft=\"0%\", gd.style.marginTop=\"0vh\") : undefined; window.onresize=(function (){return Plotly.Plots.resize(gd)}); Plotly.newPlot(gd,[{\"y\":[0,1,1,0,0,1,1,0],\"type\":\"mesh3d\",\"j\":[3,4,1,2,5,6,5,5,0,1,2,2],\"k\":[0,7,2,3,6,7,1,2,5,5,7,6],\"z\":[0,0,0,0,1,1,1,1],\"i\":[7,0,0,0,4,4,2,6,4,0,3,7],\"facecolor\":[\"rgb(50, 200, 200)\",\"rgb(50, 200, 200)\",\"rgb(100, 200, 255)\",\"rgb(100, 200, 255)\",\"rgb(150, 200, 115)\",\"rgb(150, 200, 115)\",\"rgb(200, 200, 50)\",\"rgb(200, 200, 50)\",\"rgb(230, 200, 10)\",\"rgb(230, 200, 10)\",\"rgb(255, 140, 0)\",\"rgb(255, 140, 0)\"],\"x\":[0,0,1,1,0,0,1,1]}],{\"margin\":{\"l\":50,\"b\":50,\"r\":50,\"t\":60}},{}); gd.on(\"plotly_hover\",(function (data){var filtered_data=WebIO.PlotlyCommands.filterEventData(gd,data,\"hover\"); return !(filtered_data.isnil) ? (WebIO.setval({\"name\":\"hover\",\"scope\":\"13798871198089401510\",\"id\":\"ob_11\",\"type\":\"observable\"},filtered_data.out)) : undefined})); gd.on(\"plotly_unhover\",(function (){return WebIO.setval({\"name\":\"hover\",\"scope\":\"13798871198089401510\",\"id\":\"ob_11\",\"type\":\"observable\"},{})})); gd.on(\"plotly_selected\",(function (data){var filtered_data=WebIO.PlotlyCommands.filterEventData(gd,data,\"selected\"); return !(filtered_data.isnil) ? (WebIO.setval({\"name\":\"selected\",\"scope\":\"13798871198089401510\",\"id\":\"ob_12\",\"type\":\"observable\"},filtered_data.out)) : undefined})); gd.on(\"plotly_deselect\",(function (){return WebIO.setval({\"name\":\"selected\",\"scope\":\"13798871198089401510\",\"id\":\"ob_12\",\"type\":\"observable\"},{})})); gd.on(\"plotly_relayout\",(function (data){var filtered_data=WebIO.PlotlyCommands.filterEventData(gd,data,\"relayout\"); return !(filtered_data.isnil) ? (WebIO.setval({\"name\":\"relayout\",\"scope\":\"13798871198089401510\",\"id\":\"ob_14\",\"type\":\"observable\"},filtered_data.out)) : undefined})); return gd.on(\"plotly_click\",(function (data){var filtered_data=WebIO.PlotlyCommands.filterEventData(gd,data,\"click\"); return !(filtered_data.isnil) ? (WebIO.setval({\"name\":\"click\",\"scope\":\"13798871198089401510\",\"id\":\"ob_13\",\"type\":\"observable\"},filtered_data.out)) : undefined}))}));\n    (WebIO.importBlock({\"data\":[{\"name\":\"Plotly\",\"type\":\"js\",\"url\":\"/assetserver/b4459bca59fdd2ca845c4e29ef139273d6cbb549-plotly-latest.min.js\"},{\"name\":null,\"type\":\"js\",\"url\":\"/assetserver/96f803c1f18e79dded91f53d1e6b29efa74f2fb6-plotly_webio.bundle.js\"}],\"type\":\"async_block\"})).then((imports) => handler.apply(this, imports));\n}\n"
        ],
        "observables": {
         "__gd_contents": {
          "id": "ob_16",
          "sync": false,
          "value": {}
         },
         "__get_gd_contents": {
          "id": "ob_20",
          "sync": false,
          "value": ""
         },
         "_commands": {
          "id": "ob_17",
          "sync": false,
          "value": []
         },
         "_downloadImage": {
          "id": "ob_19",
          "sync": false,
          "value": {}
         },
         "_toImage": {
          "id": "ob_18",
          "sync": false,
          "value": {}
         },
         "click": {
          "id": "ob_13",
          "sync": false,
          "value": {}
         },
         "hover": {
          "id": "ob_11",
          "sync": false,
          "value": {}
         },
         "image": {
          "id": "ob_15",
          "sync": true,
          "value": ""
         },
         "relayout": {
          "id": "ob_14",
          "sync": false,
          "value": {}
         },
         "selected": {
          "id": "ob_12",
          "sync": false,
          "value": {}
         }
        },
        "systemjs_options": null
       },
       "nodeType": "Scope",
       "props": {},
       "type": "node"
      },
      "image/png": "[encoded data removed]",
      "text/html": [
       "<div\n",
       "    class=\"webio-mountpoint\"\n",
       "    data-webio-mountpoint=\"13872344461334666324\"\n",
       ">\n",
       "    <script>\n",
       "    if (window.require && require.defined && require.defined(\"nbextensions/webio-jupyter-notebook\")) {\n",
       "        console.log(\"Jupyter WebIO extension detected, not mounting.\");\n",
       "    } else if (window.WebIO) {\n",
       "        WebIO.mount(\n",
       "            document.querySelector('[data-webio-mountpoint=\"13872344461334666324\"]'),\n",
       "            {\"props\":{},\"nodeType\":\"Scope\",\"type\":\"node\",\"instanceArgs\":{\"imports\":{\"data\":[{\"name\":\"Plotly\",\"type\":\"js\",\"url\":\"\\/assetserver\\/b4459bca59fdd2ca845c4e29ef139273d6cbb549-plotly-latest.min.js\"},{\"name\":null,\"type\":\"js\",\"url\":\"\\/assetserver\\/96f803c1f18e79dded91f53d1e6b29efa74f2fb6-plotly_webio.bundle.js\"}],\"type\":\"async_block\"},\"id\":\"13798871198089401510\",\"handlers\":{\"_toImage\":[\"(function (options){return this.Plotly.toImage(this.plotElem,options).then((function (data){return WebIO.setval({\\\"name\\\":\\\"image\\\",\\\"scope\\\":\\\"13798871198089401510\\\",\\\"id\\\":\\\"ob_15\\\",\\\"type\\\":\\\"observable\\\"},data)}))})\"],\"__get_gd_contents\":[\"(function (prop){prop==\\\"data\\\" ? (WebIO.setval({\\\"name\\\":\\\"__gd_contents\\\",\\\"scope\\\":\\\"13798871198089401510\\\",\\\"id\\\":\\\"ob_16\\\",\\\"type\\\":\\\"observable\\\"},this.plotElem.data)) : undefined; return prop==\\\"layout\\\" ? (WebIO.setval({\\\"name\\\":\\\"__gd_contents\\\",\\\"scope\\\":\\\"13798871198089401510\\\",\\\"id\\\":\\\"ob_16\\\",\\\"type\\\":\\\"observable\\\"},this.plotElem.layout)) : undefined})\"],\"_downloadImage\":[\"(function (options){return this.Plotly.downloadImage(this.plotElem,options)})\"],\"_commands\":[\"(function (args){var fn=args.shift(); var elem=this.plotElem; var Plotly=this.Plotly; args.unshift(elem); return Plotly[fn].apply(this,args)})\"]},\"systemjs_options\":null,\"mount_callbacks\":[\"function () {\\n    var handler = ((function (Plotly,PlotlyWebIO){PlotlyWebIO.init(WebIO); var gd=this.dom.querySelector(\\\"#plot-cd0b8671-2600-492c-8084-77c9ebb5dc54\\\"); this.plotElem=gd; this.Plotly=Plotly; (window.Blink!==undefined) ? (gd.style.width=\\\"100%\\\", gd.style.height=\\\"100vh\\\", gd.style.marginLeft=\\\"0%\\\", gd.style.marginTop=\\\"0vh\\\") : undefined; window.onresize=(function (){return Plotly.Plots.resize(gd)}); Plotly.newPlot(gd,[{\\\"y\\\":[0,1,1,0,0,1,1,0],\\\"type\\\":\\\"mesh3d\\\",\\\"j\\\":[3,4,1,2,5,6,5,5,0,1,2,2],\\\"k\\\":[0,7,2,3,6,7,1,2,5,5,7,6],\\\"z\\\":[0,0,0,0,1,1,1,1],\\\"i\\\":[7,0,0,0,4,4,2,6,4,0,3,7],\\\"facecolor\\\":[\\\"rgb(50, 200, 200)\\\",\\\"rgb(50, 200, 200)\\\",\\\"rgb(100, 200, 255)\\\",\\\"rgb(100, 200, 255)\\\",\\\"rgb(150, 200, 115)\\\",\\\"rgb(150, 200, 115)\\\",\\\"rgb(200, 200, 50)\\\",\\\"rgb(200, 200, 50)\\\",\\\"rgb(230, 200, 10)\\\",\\\"rgb(230, 200, 10)\\\",\\\"rgb(255, 140, 0)\\\",\\\"rgb(255, 140, 0)\\\"],\\\"x\\\":[0,0,1,1,0,0,1,1]}],{\\\"margin\\\":{\\\"l\\\":50,\\\"b\\\":50,\\\"r\\\":50,\\\"t\\\":60}},{}); gd.on(\\\"plotly_hover\\\",(function (data){var filtered_data=WebIO.PlotlyCommands.filterEventData(gd,data,\\\"hover\\\"); return !(filtered_data.isnil) ? (WebIO.setval({\\\"name\\\":\\\"hover\\\",\\\"scope\\\":\\\"13798871198089401510\\\",\\\"id\\\":\\\"ob_11\\\",\\\"type\\\":\\\"observable\\\"},filtered_data.out)) : undefined})); gd.on(\\\"plotly_unhover\\\",(function (){return WebIO.setval({\\\"name\\\":\\\"hover\\\",\\\"scope\\\":\\\"13798871198089401510\\\",\\\"id\\\":\\\"ob_11\\\",\\\"type\\\":\\\"observable\\\"},{})})); gd.on(\\\"plotly_selected\\\",(function (data){var filtered_data=WebIO.PlotlyCommands.filterEventData(gd,data,\\\"selected\\\"); return !(filtered_data.isnil) ? (WebIO.setval({\\\"name\\\":\\\"selected\\\",\\\"scope\\\":\\\"13798871198089401510\\\",\\\"id\\\":\\\"ob_12\\\",\\\"type\\\":\\\"observable\\\"},filtered_data.out)) : undefined})); gd.on(\\\"plotly_deselect\\\",(function (){return WebIO.setval({\\\"name\\\":\\\"selected\\\",\\\"scope\\\":\\\"13798871198089401510\\\",\\\"id\\\":\\\"ob_12\\\",\\\"type\\\":\\\"observable\\\"},{})})); gd.on(\\\"plotly_relayout\\\",(function (data){var filtered_data=WebIO.PlotlyCommands.filterEventData(gd,data,\\\"relayout\\\"); return !(filtered_data.isnil) ? (WebIO.setval({\\\"name\\\":\\\"relayout\\\",\\\"scope\\\":\\\"13798871198089401510\\\",\\\"id\\\":\\\"ob_14\\\",\\\"type\\\":\\\"observable\\\"},filtered_data.out)) : undefined})); return gd.on(\\\"plotly_click\\\",(function (data){var filtered_data=WebIO.PlotlyCommands.filterEventData(gd,data,\\\"click\\\"); return !(filtered_data.isnil) ? (WebIO.setval({\\\"name\\\":\\\"click\\\",\\\"scope\\\":\\\"13798871198089401510\\\",\\\"id\\\":\\\"ob_13\\\",\\\"type\\\":\\\"observable\\\"},filtered_data.out)) : undefined}))}));\\n    (WebIO.importBlock({\\\"data\\\":[{\\\"name\\\":\\\"Plotly\\\",\\\"type\\\":\\\"js\\\",\\\"url\\\":\\\"\\/assetserver\\/b4459bca59fdd2ca845c4e29ef139273d6cbb549-plotly-latest.min.js\\\"},{\\\"name\\\":null,\\\"type\\\":\\\"js\\\",\\\"url\\\":\\\"\\/assetserver\\/96f803c1f18e79dded91f53d1e6b29efa74f2fb6-plotly_webio.bundle.js\\\"}],\\\"type\\\":\\\"async_block\\\"})).then((imports) => handler.apply(this, imports));\\n}\\n\"],\"observables\":{\"_toImage\":{\"sync\":false,\"id\":\"ob_18\",\"value\":{}},\"hover\":{\"sync\":false,\"id\":\"ob_11\",\"value\":{}},\"selected\":{\"sync\":false,\"id\":\"ob_12\",\"value\":{}},\"__gd_contents\":{\"sync\":false,\"id\":\"ob_16\",\"value\":{}},\"click\":{\"sync\":false,\"id\":\"ob_13\",\"value\":{}},\"image\":{\"sync\":true,\"id\":\"ob_15\",\"value\":\"\"},\"__get_gd_contents\":{\"sync\":false,\"id\":\"ob_20\",\"value\":\"\"},\"_downloadImage\":{\"sync\":false,\"id\":\"ob_19\",\"value\":{}},\"relayout\":{\"sync\":false,\"id\":\"ob_14\",\"value\":{}},\"_commands\":{\"sync\":false,\"id\":\"ob_17\",\"value\":[]}}},\"children\":[{\"props\":{\"id\":\"plot-cd0b8671-2600-492c-8084-77c9ebb5dc54\"},\"nodeType\":\"DOM\",\"type\":\"node\",\"instanceArgs\":{\"namespace\":\"html\",\"tag\":\"div\"},\"children\":[]}]},\n",
       "            window,\n",
       "        );\n",
       "    } else {\n",
       "        document\n",
       "            .querySelector('[data-webio-mountpoint=\"13872344461334666324\"]')\n",
       "            .innerHTML = (\n",
       "                '<strong>WebIO not detected. Please read ' +\n",
       "                '<a href=\"https://juliagizmos.github.io/WebIO.jl/latest/troubleshooting/not-detected/\">the troubleshooting guide</a> ' +\n",
       "                'for more information on how to resolve this issue.' +\n",
       "                '</strong>'\n",
       "            );\n",
       "    }\n",
       "    </script>\n",
       "</div>\n"
      ],
      "text/plain": [
       "data: [\n",
       "  \"mesh3d with fields facecolor, i, j, k, type, x, y, and z\"\n",
       "]\n",
       "\n",
       "layout: \"layout with field margin\"\n",
       "\n"
      ]
     },
     "execution_count": 6,
     "metadata": {},
     "output_type": "execute_result"
    }
   ],
   "source": [
    "trisurf()"
   ]
  },
  {
   "cell_type": "code",
   "execution_count": null,
   "metadata": {
    "collapsed": true,
    "jupyter": {
     "outputs_hidden": true
    }
   },
   "outputs": [],
   "source": []
  }
 ],
 "metadata": {
  "kernelspec": {
   "display_name": "Julia 1.2.0",
   "language": "julia",
   "name": "julia-1.2"
  },
  "language_info": {
   "file_extension": ".jl",
   "mimetype": "application/julia",
   "name": "julia",
   "version": "1.2.0"
  }
 },
 "nbformat": 4,
 "nbformat_minor": 4
}
