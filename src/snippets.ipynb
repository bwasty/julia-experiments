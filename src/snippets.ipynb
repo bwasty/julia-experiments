{
 "cells": [
  {
   "cell_type": "code",
   "execution_count": 2,
   "metadata": {},
   "outputs": [
    {
     "data": {
      "text/plain": [
       "42"
      ]
     },
     "execution_count": 2,
     "metadata": {},
     "output_type": "execute_result"
    }
   ],
   "source": [
    "f′(x) = 42 # \\prime\n",
    "f′(1)"
   ]
  },
  {
   "cell_type": "code",
   "execution_count": 3,
   "metadata": {},
   "outputs": [
    {
     "data": {
      "text/plain": [
       "4"
      ]
     },
     "execution_count": 3,
     "metadata": {},
     "output_type": "execute_result"
    }
   ],
   "source": [
    "a′ = 4"
   ]
  },
  {
   "cell_type": "code",
   "execution_count": 5,
   "metadata": {},
   "outputs": [
    {
     "data": {
      "text/plain": [
       "4"
      ]
     },
     "execution_count": 5,
     "metadata": {},
     "output_type": "execute_result"
    }
   ],
   "source": [
    "n₂ = 4 # \\_2"
   ]
  },
  {
   "cell_type": "code",
   "execution_count": 6,
   "metadata": {},
   "outputs": [
    {
     "data": {
      "text/plain": [
       "23"
      ]
     },
     "execution_count": 6,
     "metadata": {},
     "output_type": "execute_result"
    }
   ],
   "source": [
    "n⁰ = 23 # \\^0"
   ]
  },
  {
   "cell_type": "code",
   "execution_count": 8,
   "metadata": {},
   "outputs": [
    {
     "data": {
      "text/plain": [
       "1"
      ]
     },
     "execution_count": 8,
     "metadata": {},
     "output_type": "execute_result"
    }
   ],
   "source": [
    "aₙ = 0 # \\_n\n",
    "aⁿ = 1"
   ]
  },
  {
   "cell_type": "code",
   "execution_count": 9,
   "metadata": {},
   "outputs": [
    {
     "name": "stdout",
     "output_type": "stream",
     "text": [
      "search: \u001b[1mm\u001b[22m\u001b[1me\u001b[22m\u001b[1mt\u001b[22m\u001b[1mh\u001b[22m\u001b[1mo\u001b[22m\u001b[1md\u001b[22m\u001b[1ms\u001b[22m\u001b[1mw\u001b[22m\u001b[1mi\u001b[22m\u001b[1mt\u001b[22m\u001b[1mh\u001b[22m\n",
      "\n"
     ]
    },
    {
     "data": {
      "text/markdown": [
       "```\n",
       "methodswith(typ[, module or function][, showparents::Bool=false])\n",
       "```\n",
       "\n",
       "Return an array of methods with an argument of type `typ`.\n",
       "\n",
       "The optional second argument restricts the search to a particular module or function (the default is all modules, starting from Main).\n",
       "\n",
       "If optional `showparents` is `true`, also return arguments with a parent type of `typ`, excluding type `Any`.\n"
      ],
      "text/plain": [
       "```\n",
       "methodswith(typ[, module or function][, showparents::Bool=false])\n",
       "```\n",
       "\n",
       "Return an array of methods with an argument of type `typ`.\n",
       "\n",
       "The optional second argument restricts the search to a particular module or function (the default is all modules, starting from Main).\n",
       "\n",
       "If optional `showparents` is `true`, also return arguments with a parent type of `typ`, excluding type `Any`.\n"
      ]
     },
     "execution_count": 9,
     "metadata": {},
     "output_type": "execute_result"
    }
   ],
   "source": [
    "?methodswith"
   ]
  },
  {
   "cell_type": "code",
   "execution_count": null,
   "metadata": {
    "collapsed": true
   },
   "outputs": [],
   "source": []
  }
 ],
 "metadata": {
  "kernelspec": {
   "display_name": "Julia 0.6.0",
   "language": "julia",
   "name": "julia-0.6"
  },
  "language_info": {
   "file_extension": ".jl",
   "mimetype": "application/julia",
   "name": "julia",
   "version": "0.6.0"
  }
 },
 "nbformat": 4,
 "nbformat_minor": 2
}
