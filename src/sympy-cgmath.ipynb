{
 "cells": [
  {
   "cell_type": "markdown",
   "metadata": {},
   "source": [
    "See http://nbviewer.jupyter.org/github/jverzani/SymPy.jl/blob/master/examples/tutorial.ipynb for full tutorial"
   ]
  },
  {
   "cell_type": "code",
   "execution_count": 2,
   "metadata": {},
   "outputs": [],
   "source": [
    "using SymPy"
   ]
  },
  {
   "cell_type": "code",
   "execution_count": 3,
   "metadata": {},
   "outputs": [
    {
     "ename": "ArgumentError",
     "evalue": "ArgumentError: ref of NULL PyObject",
     "output_type": "error",
     "traceback": [
      "ArgumentError: ref of NULL PyObject",
      "",
      "Stacktrace:",
      " [1] getproperty(::PyCall.PyObject, ::String) at /root/.julia/packages/PyCall/ttONZ/src/PyCall.jl:303",
      " [2] getproperty at /root/.julia/packages/PyCall/ttONZ/src/PyCall.jl:313 [inlined]",
      " [3] #symbols#9(::Base.Iterators.Pairs{Union{},Union{},Tuple{},NamedTuple{(),Tuple{}}}, ::typeof(symbols), ::String) at /root/.julia/packages/SymPy/1Cwgd/src/constructors.jl:3",
      " [4] #symbols#10 at /root/.julia/packages/SymPy/1Cwgd/src/constructors.jl:3 [inlined]",
      " [5] symbols(::Symbol) at /root/.julia/packages/SymPy/1Cwgd/src/constructors.jl:5",
      " [6] top-level scope at In[3]:1"
     ]
    }
   ],
   "source": [
    "@syms a y f n # aspect ratio, yfov, zfar, znear"
   ]
  },
  {
   "cell_type": "code",
   "execution_count": 13,
   "metadata": {},
   "outputs": [
    {
     "data": {
      "text/latex": [
       "\\begin{bmatrix}\\frac{1}{a \\tan{\\left (0.5 y \\right )}}&0&0&0\\\\0&\\frac{1}{\\tan{\\left (0.5 y \\right )}}&0&0\\\\0&0&\\frac{f + n}{- f + n}&0\\\\0&0&-1&\\frac{2 f n}{- f + n}\\end{bmatrix}"
      ],
      "text/plain": [
       "4×4 Array{SymPy.Sym,2}:\n",
       " 1/(a*tan(0.5*y))             0                 0               0\n",
       "                0  1/tan(0.5*y)                 0               0\n",
       "                0             0  (f + n)/(-f + n)               0\n",
       "                0             0                -1  2*f*n/(-f + n)"
      ]
     },
     "execution_count": 13,
     "metadata": {},
     "output_type": "execute_result"
    }
   ],
   "source": [
    "# Finite perspective projection\n",
    "P = [1/(a*tan(0.5y)) 0 0 0;\n",
    "     0 1/tan(0.5y) 0 0;\n",
    "     0 0 (f+n)//(n-f) 0;\n",
    "     0 0 -1 (2f*n)//(n-f)]"
   ]
  },
  {
   "cell_type": "code",
   "execution_count": 17,
   "metadata": {},
   "outputs": [
    {
     "data": {
      "text/latex": [
       "\\begin{bmatrix}1.1950606579462&0&0&0\\\\0&1.7925909869193&0&0\\\\0&0&-1.002002002002&0\\\\0&0&-1&-0.2002002002002\\end{bmatrix}"
      ],
      "text/plain": [
       "4×4 Array{SymPy.Sym,2}:\n",
       " 1.19506065794620                 0                  0                   0\n",
       "                0  1.79259098691930                  0                   0\n",
       "                0                 0  -1.00200200200200                   0\n",
       "                0                 0                 -1  -0.200200200200200"
      ]
     },
     "execution_count": 17,
     "metadata": {},
     "output_type": "execute_result"
    }
   ],
   "source": [
    "subs(P, a=>1.5, y=>45, f=>100, n=>0.1)"
   ]
  },
  {
   "cell_type": "code",
   "execution_count": 18,
   "metadata": {},
   "outputs": [
    {
     "data": {
      "text/plain": [
       "Array{SymPy.Sym,2}"
      ]
     },
     "execution_count": 18,
     "metadata": {},
     "output_type": "execute_result"
    }
   ],
   "source": [
    "typeof(ans)"
   ]
  },
  {
   "cell_type": "code",
   "execution_count": null,
   "metadata": {
    "collapsed": true,
    "jupyter": {
     "outputs_hidden": true
    }
   },
   "outputs": [],
   "source": []
  }
 ],
 "metadata": {
  "kernelspec": {
   "display_name": "Julia 1.2.0",
   "language": "julia",
   "name": "julia-1.2"
  },
  "language_info": {
   "file_extension": ".jl",
   "mimetype": "application/julia",
   "name": "julia",
   "version": "1.2.0"
  }
 },
 "nbformat": 4,
 "nbformat_minor": 4
}
